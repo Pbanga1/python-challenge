{
 "cells": [
  {
   "cell_type": "code",
   "execution_count": 1,
   "metadata": {},
   "outputs": [],
   "source": [
    "# Importing csv library and Path from patlib\n",
    "from pathlib import Path\n",
    "import csv"
   ]
  },
  {
   "cell_type": "code",
   "execution_count": 2,
   "metadata": {},
   "outputs": [],
   "source": [
    "# Setting the path for file \n",
    "filepath = Path(\"budget_data.csv\")"
   ]
  },
  {
   "cell_type": "code",
   "execution_count": 3,
   "metadata": {},
   "outputs": [],
   "source": [
    "# Introducing Dictionary\n",
    "summary = {}"
   ]
  },
  {
   "cell_type": "code",
   "execution_count": 4,
   "metadata": {},
   "outputs": [],
   "source": [
    "# Initializing greatest_increase, _decrease lists\n",
    "greatest_increase = []\n",
    "greatest_decrease = []"
   ]
  },
  {
   "cell_type": "code",
   "execution_count": 5,
   "metadata": {},
   "outputs": [],
   "source": [
    "# Introducing variables\n",
    "total = 0\n",
    "total_months = 0\n",
    "total_change = 0\n",
    "minimum = 0\n",
    "maximum = 0\n",
    "profit_shift = 0"
   ]
  },
  {
   "cell_type": "code",
   "execution_count": 6,
   "metadata": {},
   "outputs": [],
   "source": [
    "# Reading the file\n",
    "with open(filepath, 'r') as file:\n",
    "    file_read = csv.reader(file, delimiter=\",\")\n",
    "    columns = next(file_read)\n",
    "    # Assigning variables according to the columns\n",
    "    for i in file_read:\n",
    "        date = i[0]\n",
    "        profit = i[1]\n",
    "        # Calculating change in Profit and Losses\n",
    "        change = int(profit) - int(profit_shift)\n",
    "\n",
    "        # Calculating net total, total months and shift profit by one field\n",
    "        total_months += 1\n",
    "        total = total + int(profit)\n",
    "        profit_shift = i[1]\n",
    "        \n",
    "        # Inserting values into the summary dictionary\n",
    "        if date not in summary.keys():\n",
    "            summary[date] = {\"Profit/Losses\": profit, \"Change\": change}\n",
    "        else:\n",
    "            summary[date][\"Profit/Losses\"] = profit\n",
    "            summary[date][\"Change\"] = change\n",
    "        \n",
    "        # Inserting values into the greatest_decrease and _increase list\n",
    "        if summary[date]['Change'] < minimum:\n",
    "            greatest_decrease.append({\"date\":date,\"change\":summary[date]['Change']})\n",
    "        elif summary[date]['Change'] > maximum:\n",
    "            greatest_increase.append({\"date\":date,\"change\":summary[date]['Change']})\n",
    "        \n",
    "        # Calculating total change in Profits and Losses\n",
    "        total_change = total_change + change"
   ]
  },
  {
   "cell_type": "code",
   "execution_count": 7,
   "metadata": {},
   "outputs": [],
   "source": [
    "# Sorting both the lists\n",
    "greatest_increase = sorted(greatest_increase, key=lambda d: d['change'])\n",
    "greatest_decrease = sorted(greatest_decrease, key=lambda d: d['change'])"
   ]
  },
  {
   "cell_type": "code",
   "execution_count": 8,
   "metadata": {},
   "outputs": [
    {
     "data": {
      "text/plain": [
       "[{'date': 'Sep-2013', 'change': -2196167},\n",
       " {'date': 'Jul-2016', 'change': -1876758},\n",
       " {'date': 'Feb-2016', 'change': -1750387},\n",
       " {'date': 'Aug-2012', 'change': -1529236},\n",
       " {'date': 'Apr-2015', 'change': -1212159},\n",
       " {'date': 'Feb-2011', 'change': -1115009},\n",
       " {'date': 'Jan-2012', 'change': -1065544},\n",
       " {'date': 'Dec-2010', 'change': -974163},\n",
       " {'date': 'Nov-2013', 'change': -956983},\n",
       " {'date': 'Mar-2012', 'change': -917805},\n",
       " {'date': 'Sep-2010', 'change': -821271},\n",
       " {'date': 'Dec-2016', 'change': -734926},\n",
       " {'date': 'Nov-2011', 'change': -702716},\n",
       " {'date': 'Oct-2016', 'change': -665765},\n",
       " {'date': 'Mar-2010', 'change': -662642},\n",
       " {'date': 'Nov-2012', 'change': -635801},\n",
       " {'date': 'Jul-2011', 'change': -521393},\n",
       " {'date': 'Jan-2014', 'change': -468003},\n",
       " {'date': 'May-2014', 'change': -449079},\n",
       " {'date': 'Aug-2010', 'change': -428211},\n",
       " {'date': 'Apr-2010', 'change': -391430},\n",
       " {'date': 'Nov-2014', 'change': -368665},\n",
       " {'date': 'Mar-2015', 'change': -341938},\n",
       " {'date': 'May-2012', 'change': -334262},\n",
       " {'date': 'May-2016', 'change': -311434},\n",
       " {'date': 'May-2011', 'change': -308093},\n",
       " {'date': 'Sep-2015', 'change': -272194},\n",
       " {'date': 'Mar-2013', 'change': -253689},\n",
       " {'date': 'Jun-2012', 'change': -246499},\n",
       " {'date': 'Apr-2014', 'change': -242155},\n",
       " {'date': 'Oct-2015', 'change': -236462},\n",
       " {'date': 'Oct-2014', 'change': -219310},\n",
       " {'date': 'Dec-2015', 'change': -211262},\n",
       " {'date': 'Jan-2013', 'change': -183161},\n",
       " {'date': 'Jan-2016', 'change': -128237},\n",
       " {'date': 'Feb-2015', 'change': -110244},\n",
       " {'date': 'Jul-2013', 'change': -83000},\n",
       " {'date': 'Jun-2015', 'change': -70825},\n",
       " {'date': 'Oct-2011', 'change': -65187},\n",
       " {'date': 'Feb-2014', 'change': -64602},\n",
       " {'date': 'Jul-2012', 'change': -64055},\n",
       " {'date': 'Feb-2013', 'change': -37864}]"
      ]
     },
     "execution_count": 8,
     "metadata": {},
     "output_type": "execute_result"
    }
   ],
   "source": [
    "# Checking the greatest_decrease list\n",
    "greatest_decrease"
   ]
  },
  {
   "cell_type": "code",
   "execution_count": 9,
   "metadata": {},
   "outputs": [
    {
     "data": {
      "text/plain": [
       "[{'date': 'Jan-2017', 'change': 77242},\n",
       " {'date': 'May-2013', 'change': 94168},\n",
       " {'date': 'Apr-2011', 'change': 95318},\n",
       " {'date': 'Jun-2011', 'change': 99052},\n",
       " {'date': 'Aug-2014', 'change': 111540},\n",
       " {'date': 'Feb-2010', 'change': 116771},\n",
       " {'date': 'Jan-2015', 'change': 151210},\n",
       " {'date': 'Dec-2011', 'change': 177975},\n",
       " {'date': 'Sep-2016', 'change': 198551},\n",
       " {'date': 'Mar-2014', 'change': 206242},\n",
       " {'date': 'Aug-2013', 'change': 210462},\n",
       " {'date': 'Jun-2010', 'change': 212354},\n",
       " {'date': 'Sep-2011', 'change': 231727},\n",
       " {'date': 'Jul-2014', 'change': 241099},\n",
       " {'date': 'Jun-2016', 'change': 267252},\n",
       " {'date': 'Oct-2012', 'change': 304914},\n",
       " {'date': 'Jun-2013', 'change': 306877},\n",
       " {'date': 'Jun-2014', 'change': 315198},\n",
       " {'date': 'Jul-2015', 'change': 335594},\n",
       " {'date': 'Sep-2014', 'change': 365942},\n",
       " {'date': 'May-2010', 'change': 379920},\n",
       " {'date': 'Dec-2012', 'change': 398319},\n",
       " {'date': 'Apr-2013', 'change': 403655},\n",
       " {'date': 'Dec-2014', 'change': 409837},\n",
       " {'date': 'Nov-2010', 'change': 416278},\n",
       " {'date': 'Aug-2015', 'change': 417334},\n",
       " {'date': 'Jul-2010', 'change': 510239},\n",
       " {'date': 'Feb-2017', 'change': 532869},\n",
       " {'date': 'Aug-2011', 'change': 605450},\n",
       " {'date': 'Nov-2015', 'change': 657432},\n",
       " {'date': 'May-2015', 'change': 683246},\n",
       " {'date': 'Nov-2016', 'change': 693229},\n",
       " {'date': 'Oct-2010', 'change': 693918},\n",
       " {'date': 'Jan-2011', 'change': 860159},\n",
       " {'date': 'Jan-2010', 'change': 867884},\n",
       " {'date': 'Apr-2012', 'change': 898730},\n",
       " {'date': 'Mar-2016', 'change': 925441},\n",
       " {'date': 'Apr-2016', 'change': 932089},\n",
       " {'date': 'Mar-2011', 'change': 1033048},\n",
       " {'date': 'Oct-2013', 'change': 1465222},\n",
       " {'date': 'Sep-2012', 'change': 1497596},\n",
       " {'date': 'Aug-2016', 'change': 1733696},\n",
       " {'date': 'Dec-2013', 'change': 1838447},\n",
       " {'date': 'Feb-2012', 'change': 1926159}]"
      ]
     },
     "execution_count": 9,
     "metadata": {},
     "output_type": "execute_result"
    }
   ],
   "source": [
    "# Checking the greatest_increase list\n",
    "greatest_increase"
   ]
  },
  {
   "cell_type": "code",
   "execution_count": 10,
   "metadata": {},
   "outputs": [],
   "source": [
    "# Ironing out a few wrinkles\n",
    "total_change = total_change - summary['Jan-2010']['Change']\n",
    "summary['Jan-2010']['Change']=0"
   ]
  },
  {
   "cell_type": "code",
   "execution_count": 11,
   "metadata": {},
   "outputs": [],
   "source": [
    "# Calculating average change\n",
    "average_change = round((total_change / total_months), 2)"
   ]
  },
  {
   "cell_type": "code",
   "execution_count": 12,
   "metadata": {},
   "outputs": [
    {
     "name": "stdout",
     "output_type": "stream",
     "text": [
      "Financial Analysis\n",
      "\n",
      "----------------------------\n",
      "\n",
      "Total Months: 86\n",
      "\n",
      "Total: $38382578\n",
      "\n",
      "Average Change: $-2288.2\n",
      "\n",
      "Greatest Increase in Profits: Feb-2012 ($1926159)\n",
      "\n",
      "Greatest Decrease in Profits: Sep-2013 ($-2196167)\n"
     ]
    }
   ],
   "source": [
    "# Outputing results of the analysis as per the instructions\n",
    "print(\"Financial Analysis\\n\")\n",
    "print(\"----------------------------\\n\")\n",
    "print(f\"Total Months: {total_months}\\n\")\n",
    "print(\"Total: $\" + str(total))\n",
    "print()\n",
    "print(\"Average Change: $\" + str(average_change))\n",
    "print()\n",
    "print(f\"Greatest Increase in Profits: {greatest_increase[-1]['date']} (${greatest_increase[-1]['change']})\")\n",
    "print()\n",
    "print(f\"Greatest Decrease in Profits: {greatest_decrease[0]['date']} (${greatest_decrease[0]['change']})\")"
   ]
  },
  {
   "cell_type": "code",
   "execution_count": 13,
   "metadata": {},
   "outputs": [],
   "source": [
    "# Setting path for analysis file\n",
    "analysis_path = Path(\"analysis.txt\")"
   ]
  },
  {
   "cell_type": "code",
   "execution_count": 14,
   "metadata": {},
   "outputs": [],
   "source": [
    "# Opening the analysis_file using analysis_path and exporting the final results\n",
    "with open(analysis_path, 'w') as analysis_file:\n",
    "    analysis_file.write(\"Financial Analysis\\n\\n\")\n",
    "    analysis_file.write(\"----------------------------\\n\\n\")\n",
    "    analysis_file.write(f\"Total Months: {total_months}\\n\\n\")\n",
    "    analysis_file.write(\"Total: $\" + str(total) + '\\n\\n')\n",
    "    analysis_file.write(\"Average Change: $\" + str(average_change) + '\\n\\n')\n",
    "    analysis_file.write(f\"Greatest Increase in Profits: {greatest_increase[-1]['date']} (${greatest_increase[-1]['change']})\\n\\n\")\n",
    "    analysis_file.write(f\"Greatest Decrease in Profits: {greatest_decrease[0]['date']} (${greatest_decrease[0]['change']})\")"
   ]
  }
 ],
 "metadata": {
  "kernelspec": {
   "display_name": "Python 3",
   "language": "python",
   "name": "python3"
  },
  "language_info": {
   "codemirror_mode": {
    "name": "ipython",
    "version": 3
   },
   "file_extension": ".py",
   "mimetype": "text/x-python",
   "name": "python",
   "nbconvert_exporter": "python",
   "pygments_lexer": "ipython3",
   "version": "3.11.3"
  },
  "orig_nbformat": 4
 },
 "nbformat": 4,
 "nbformat_minor": 2
}
